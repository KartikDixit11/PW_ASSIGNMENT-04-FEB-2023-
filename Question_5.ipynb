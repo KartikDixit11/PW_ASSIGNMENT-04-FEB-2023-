{
 "cells": [
  {
   "cell_type": "markdown",
   "id": "aa552598",
   "metadata": {},
   "source": [
    "# Q.5 Write a program to filter count vowels in below-given string\n",
    "          string=\"I want to become a data scientist\""
   ]
  },
  {
   "cell_type": "code",
   "execution_count": 12,
   "id": "5bbef329",
   "metadata": {},
   "outputs": [
    {
     "name": "stdout",
     "output_type": "stream",
     "text": [
      "Number of vowels present in given string=12\n"
     ]
    }
   ],
   "source": [
    "#source code \n",
    "\n",
    "if __name__==\"__main__\":\n",
    "    \n",
    "    #given string\n",
    "    string=\"I want to become a data scientist\"\n",
    "    \n",
    "    #declare a counting variable\n",
    "    count=0\n",
    "    \n",
    "    #Main logic\n",
    "    for i in string.lower():\n",
    "        if i in ['a','e','i','o','u']:\n",
    "            count+=1\n",
    "    \n",
    "    #Result\n",
    "    print(f\"Number of vowels present in given string={count}\")"
   ]
  }
 ],
 "metadata": {
  "kernelspec": {
   "display_name": "Python 3 (ipykernel)",
   "language": "python",
   "name": "python3"
  },
  "language_info": {
   "codemirror_mode": {
    "name": "ipython",
    "version": 3
   },
   "file_extension": ".py",
   "mimetype": "text/x-python",
   "name": "python",
   "nbconvert_exporter": "python",
   "pygments_lexer": "ipython3",
   "version": "3.10.1"
  }
 },
 "nbformat": 4,
 "nbformat_minor": 5
}
