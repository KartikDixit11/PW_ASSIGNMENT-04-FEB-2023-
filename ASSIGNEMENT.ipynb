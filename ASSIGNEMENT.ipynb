{
 "cells": [
  {
   "cell_type": "markdown",
   "id": "aa552598",
   "metadata": {},
   "source": [
    "# Q.1 Explain with an example each when to use a for loop and a while loop"
   ]
  },
  {
   "cell_type": "markdown",
   "id": "a4ccd7da",
   "metadata": {},
   "source": [
    "Loops are the iteration controling units used in most of programming languages\n",
    "\n",
    "python primarily supports two types of loop control statements,\n",
    "    1)For Loop\n",
    "    2)While Loop\n",
    "    \n",
    "1)For Loop:\n",
    "    It is loop control satements used for iterating all the iterables like string,list,tuple,dictionary,sets and etc.\n",
    "'for' is the keyword which is used to declare this loop control statement.Basically this loop is used when number of executions/steps of iterations are known to the user.\n",
    "    syntax:\n",
    "        for iterator in iterable:\n",
    "                #block of code\n",
    "    example:\n",
    "        print numbers from 1 to 10\n",
    "        \n",
    "         source code:\n",
    "             l=list(range(1,11))\n",
    "             for i in l:\n",
    "                 print(i)\n",
    "2)While Loop:\n",
    "        While loops are another type of loop control statement in python.Here we supply a condition when we are declaring the loop.'while' keyword is used for while loops. It only exits when condition become falls otherwise stack overflow happens and infinite loop condition occurs.For using while loops user shouldn't have the count of number of execution steps.\n",
    "        syntax:\n",
    "            i=0 #iterator\n",
    "            while condition:\n",
    "                #block of code\n",
    "                step\n",
    "        example:\n",
    "            search number 5 in list\n",
    "            print numbers less than 10\n",
    "       source code:\n",
    "            i=0\n",
    "            while i<10:\n",
    "                print(i)\n",
    "                i=i+1"
   ]
  },
  {
   "cell_type": "markdown",
   "id": "ff336b58",
   "metadata": {},
   "source": [
    "#  Q.2  Write a python program to print the sum and product of the first 10 natural numbers using for and while loop"
   ]
  },
  {
   "cell_type": "code",
   "execution_count": 3,
   "id": "a27dfd3d",
   "metadata": {},
   "outputs": [
    {
     "name": "stdout",
     "output_type": "stream",
     "text": [
      "Addition of first 10 natural numbers=55\n",
      "Multiplication of first 10 natural numbers=3628800\n"
     ]
    }
   ],
   "source": [
    "#Source code\n",
    "if __name__==\"__main__\":\n",
    "        addition=0\n",
    "        product=1\n",
    "\n",
    "        #Addition using for loop\n",
    "\n",
    "        for i in range(1,11):\n",
    "            addition+=i\n",
    "\n",
    "        #Multiplication using while loop\n",
    "\n",
    "        i=1\n",
    "\n",
    "        while i<=10:\n",
    "            product*=i\n",
    "            i=i+1\n",
    "\n",
    "        #Result of add\n",
    "\n",
    "        print(f\"Addition of first 10 natural numbers={addition}\")\n",
    "\n",
    "        #Result of multiplication\n",
    "\n",
    "        print(f\"Multiplication of first 10 natural numbers={product}\")"
   ]
  },
  {
   "cell_type": "markdown",
   "id": "e0f2ee25",
   "metadata": {},
   "source": [
    "# Q.3 Create a python program to compute the electricity bill for a household"
   ]
  },
  {
   "cell_type": "markdown",
   "id": "82c57c51",
   "metadata": {},
   "source": [
    "constrains: 1)For first 100 units charges per unit would be 4.5 Rs\n",
    "            2)For next 100 units charges per unit would be 6 Rs \n",
    "            3)For next 100 units charges per unit would be 10 Rs\n",
    "            4)After 300 units and above charges per unit would be 20 Rs"
   ]
  },
  {
   "cell_type": "code",
   "execution_count": 2,
   "id": "5d19c597",
   "metadata": {},
   "outputs": [
    {
     "name": "stdout",
     "output_type": "stream",
     "text": [
      "Enter The No.of Units of consumed in a Month:310\n",
      "Total biliing amount = 2250 Rs\n"
     ]
    }
   ],
   "source": [
    "#Source code\n",
    "if __name__==\"__main__\":\n",
    "        #user input for Total Units\n",
    "        upm=int(input(\"Enter The No.of Units of consumed in a Month:\"))\n",
    "        \n",
    "        #initializing a variable for final value\n",
    "        amount=0\n",
    "        \n",
    "        #program logic\n",
    "        for i in range(1,upm+1):\n",
    "                if i<=100:\n",
    "                        amount +=4.5\n",
    "                elif 100<i<=200:\n",
    "                        amount +=6\n",
    "                elif 200<i<=300:\n",
    "                        amount +=10\n",
    "                else:\n",
    "                        amount+=20\n",
    "        \n",
    "        #Result\n",
    "        print(f\"Total biliing amount = {int(amount)} Rs\")\n"
   ]
  },
  {
   "cell_type": "markdown",
   "id": "93891bd1",
   "metadata": {},
   "source": [
    "#  Q.4 Create a list of numbers from 1 to 100.Use for loop and while loop to calculate the cube of each number and if the cube of that number is divisible by 4 or 5 then append that number in a list and print that list. "
   ]
  },
  {
   "cell_type": "code",
   "execution_count": 5,
   "id": "4b2dcc74",
   "metadata": {},
   "outputs": [
    {
     "name": "stdout",
     "output_type": "stream",
     "text": [
      "list of numbers whose cubes are divisible by 4 or 5=[2, 4, 5, 6, 8, 10, 12, 14, 15, 16, 18, 20, 22, 24, 25, 26, 28, 30, 32, 34, 35, 36, 38, 40, 42, 44, 45, 46, 48, 50, 52, 54, 55, 56, 58, 60, 62, 64, 65, 66, 68, 70, 72, 74, 75, 76, 78, 80, 82, 84, 85, 86, 88, 90, 92, 94, 95, 96, 98, 100]\n"
     ]
    }
   ],
   "source": [
    "#source code \n",
    "\n",
    "if __name__==\"__main__\":\n",
    "    \n",
    "    #List of 1 to 100\n",
    "    num=list(range(1,101))\n",
    "    \n",
    "    #initializing the empty list of operational data\n",
    "    data=[]\n",
    "    \n",
    "    #Main logic\n",
    "    for i in num:\n",
    "        temp=i**3\n",
    "        if temp%4==0 or temp%5==0:\n",
    "            data.append(i)\n",
    "    \n",
    "    #Result\n",
    "    print(f\"list of numbers whose cubes are divisible by 4 or 5={data}\")\n"
   ]
  },
  {
   "cell_type": "markdown",
   "id": "0325b141",
   "metadata": {},
   "source": [
    "# Q.5 Write a program to filter count vowels in below-given string\n",
    "      string=\"I want to become a data scientist\""
   ]
  },
  {
   "cell_type": "code",
   "execution_count": 4,
   "id": "d380e631",
   "metadata": {},
   "outputs": [
    {
     "name": "stdout",
     "output_type": "stream",
     "text": [
      "Number of vowels present in given string=12\n"
     ]
    }
   ],
   "source": [
    "#source code \n",
    "\n",
    "if __name__==\"__main__\":\n",
    "    \n",
    "    #given string\n",
    "    string=\"I want to become a data scientist\"\n",
    "    \n",
    "    #declare a counting variable\n",
    "    count=0\n",
    "    \n",
    "    #Main logic\n",
    "    for i in string.lower():\n",
    "        if i in ['a','e','i','o','u']:\n",
    "            count+=1\n",
    "    \n",
    "    #Result\n",
    "    print(f\"Number of vowels present in given string={count}\")"
   ]
  }
 ],
 "metadata": {
  "kernelspec": {
   "display_name": "Python 3 (ipykernel)",
   "language": "python",
   "name": "python3"
  },
  "language_info": {
   "codemirror_mode": {
    "name": "ipython",
    "version": 3
   },
   "file_extension": ".py",
   "mimetype": "text/x-python",
   "name": "python",
   "nbconvert_exporter": "python",
   "pygments_lexer": "ipython3",
   "version": "3.10.1"
  }
 },
 "nbformat": 4,
 "nbformat_minor": 5
}
