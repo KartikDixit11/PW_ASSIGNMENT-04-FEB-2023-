{
 "cells": [
  {
   "cell_type": "markdown",
   "id": "aa552598",
   "metadata": {},
   "source": [
    "# Q.1 Explain with an example each when to use a for loop and a while loop"
   ]
  },
  {
   "cell_type": "markdown",
   "id": "a4ccd7da",
   "metadata": {},
   "source": [
    "Loops are the iteration controling units used in most of programming languages\n",
    "\n",
    "python primarily supports two types of loop control statements,\n",
    "    1)For Loop\n",
    "    2)While Loop\n",
    "    \n",
    "1)For Loop:\n",
    "    It is loop control satements used for iterating all the iterables like string,list,tuple,dictionary,sets and etc.\n",
    "'for' is the keyword which is used to declare this loop control statement.Basically this loop is used when number of executions/steps of iterations are known to the user.\n",
    "    syntax:\n",
    "        for iterator in iterable:\n",
    "                #block of code\n",
    "    example:\n",
    "        print numbers from 1 to 10\n",
    "        \n",
    "         source code:\n",
    "             l=list(range(1,11))\n",
    "             for i in l:\n",
    "                 print(i)\n",
    "2)While Loop:\n",
    "        While loops are another type of loop control statement in python.Here we supply a condition when we are declaring the loop.'while' keyword is used for while loops. It only exits when condition become falls otherwise stack overflow happens and infinite loop condition occurs.For using while loops user shouldn't have the count of number of execution steps.\n",
    "        syntax:\n",
    "            i=0 #iterator\n",
    "            while condition:\n",
    "                #block of code\n",
    "                step\n",
    "        example:\n",
    "            search number 5 in list\n",
    "            print numbers less than 10\n",
    "       source code:\n",
    "            i=0\n",
    "            while i<10:\n",
    "                print(i)\n",
    "                i=i+1"
   ]
  }
 ],
 "metadata": {
  "kernelspec": {
   "display_name": "Python 3 (ipykernel)",
   "language": "python",
   "name": "python3"
  },
  "language_info": {
   "codemirror_mode": {
    "name": "ipython",
    "version": 3
   },
   "file_extension": ".py",
   "mimetype": "text/x-python",
   "name": "python",
   "nbconvert_exporter": "python",
   "pygments_lexer": "ipython3",
   "version": "3.10.1"
  }
 },
 "nbformat": 4,
 "nbformat_minor": 5
}
