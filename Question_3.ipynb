{
 "cells": [
  {
   "cell_type": "markdown",
   "id": "64725d7f",
   "metadata": {},
   "source": [
    "# Q.3 Create a python program to compute the electricity bill for a household"
   ]
  },
  {
   "cell_type": "markdown",
   "id": "65ff4975",
   "metadata": {},
   "source": [
    "constrains:\n",
    " 1)For first 100 units charges per unit would be 4.5 Rs\n",
    " 2)For next 100 units charges per unit would be 6 Rs\n",
    " 3)For next 100 units charges per unit would be 10 Rs\n",
    " 4)After 300 units and above charges per unit would be 20 Rs"
   ]
  },
  {
   "cell_type": "code",
   "execution_count": 3,
   "id": "f159ce04",
   "metadata": {},
   "outputs": [
    {
     "name": "stdout",
     "output_type": "stream",
     "text": [
      "Enter The No.of Units of consumed in a Month:310\n",
      "Total biliing amount = 2250 Rs\n"
     ]
    }
   ],
   "source": [
    "#Source code\n",
    "if __name__==\"__main__\":\n",
    "        #user input for Total Units\n",
    "        upm=int(input(\"Enter The No.of Units of consumed in a Month:\"))\n",
    "        \n",
    "        #initializing a variable for final value\n",
    "        amount=0\n",
    "        \n",
    "        #program logic\n",
    "        for i in range(1,upm+1):\n",
    "                if i<=100:\n",
    "                        amount +=4.5\n",
    "                elif 100<i<=200:\n",
    "                        amount +=6\n",
    "                elif 200<i<=300:\n",
    "                        amount +=10\n",
    "                else:\n",
    "                        amount+=20\n",
    "        \n",
    "        #Result\n",
    "        print(f\"Total biliing amount = {int(amount)} Rs\")\n"
   ]
  }
 ],
 "metadata": {
  "kernelspec": {
   "display_name": "Python 3 (ipykernel)",
   "language": "python",
   "name": "python3"
  },
  "language_info": {
   "codemirror_mode": {
    "name": "ipython",
    "version": 3
   },
   "file_extension": ".py",
   "mimetype": "text/x-python",
   "name": "python",
   "nbconvert_exporter": "python",
   "pygments_lexer": "ipython3",
   "version": "3.10.1"
  }
 },
 "nbformat": 4,
 "nbformat_minor": 5
}
