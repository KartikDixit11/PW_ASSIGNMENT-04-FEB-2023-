{
 "cells": [
  {
   "cell_type": "markdown",
   "id": "f9e798a2",
   "metadata": {},
   "source": [
    "# Q1. Create a python program to sort the given list of tuples based on integer value using a\n",
    "\n",
    "list:\n",
    "[('Sachin Tendulkar', 34357), ('Ricky Ponting', 27483), ('Jack Kallis', 25534), ('Virat Kohli', 24936)]"
   ]
  },
  {
   "cell_type": "code",
   "execution_count": 12,
   "id": "8974786f",
   "metadata": {},
   "outputs": [
    {
     "name": "stdout",
     "output_type": "stream",
     "text": [
      "sorted data=[('Virat Kohli', 24936), ('Jack Kallis', 25534), ('Ricky Ponting', 27483), ('Sachin Tendulkar', 34357)]\n"
     ]
    }
   ],
   "source": [
    "#source code\n",
    "\n",
    "if __name__==\"__main__\":\n",
    "    \n",
    "    data=[('Sachin Tendulkar', 34357), ('Ricky Ponting', 27483), ('Jack Kallis', 25534), ('Virat Kohli', 24936)]\n",
    "    \n",
    "    #Main logic\n",
    "    data.sort(key=lambda x:x[1])\n",
    "    \n",
    "    #Result\n",
    "    print(f\"sorted data={data}\")"
   ]
  },
  {
   "cell_type": "markdown",
   "id": "a14a9a43",
   "metadata": {},
   "source": [
    "# Q2. Write a Python Program to find the squares of all the numbers in the given list of integers using lambda and map functions\n",
    "\n",
    "list=[1, 2, 3, 4, 5, 6, 7, 8, 9, 10]"
   ]
  },
  {
   "cell_type": "code",
   "execution_count": 7,
   "id": "64aef21c",
   "metadata": {},
   "outputs": [
    {
     "name": "stdout",
     "output_type": "stream",
     "text": [
      "[1, 4, 9, 16, 25, 36, 49, 64, 81, 100]\n"
     ]
    }
   ],
   "source": [
    "#source code\n",
    "\n",
    "if __name__==\"__main__\":\n",
    "    data=[1, 2, 3, 4, 5, 6, 7, 8, 9, 10]\n",
    "    \n",
    "    #Main Logic\n",
    "    squares=list(map(lambda x:x**2,data))\n",
    "    \n",
    "    #Results\n",
    "    print(squares)\n",
    "    "
   ]
  },
  {
   "cell_type": "markdown",
   "id": "4ba3fd0e",
   "metadata": {},
   "source": [
    "# Q3.Write a python program to convert the given list of integers into a tuple of strings. Use map and lambda functions\n",
    "Given String: [1, 2, 3, 4, 5, 6, 7, 8, 9, 10]\n",
    "Expected output: ('1', '2', '3', '4', '5', '6', '7', '8', '9', '10') "
   ]
  },
  {
   "cell_type": "code",
   "execution_count": 15,
   "id": "d7d4aff4",
   "metadata": {},
   "outputs": [
    {
     "name": "stdout",
     "output_type": "stream",
     "text": [
      "Ans=('1', '2', '3', '4', '5', '6', '7', '8', '9', '10')\n"
     ]
    }
   ],
   "source": [
    "#source code\n",
    "\n",
    "if __name__==\"__main__\":\n",
    "    \n",
    "    String=[1, 2, 3, 4, 5, 6, 7, 8, 9, 10]\n",
    "    \n",
    "    #Main Logic\n",
    "    out=tuple(map(lambda x:str(x),String))\n",
    "    \n",
    "    #Result\n",
    "    print(f\"Ans={out}\")"
   ]
  },
  {
   "cell_type": "markdown",
   "id": "b25b52f1",
   "metadata": {},
   "source": [
    "# Q4. Write a python program using reduce function to compute the product of a list containing numbers from 1 to 25"
   ]
  },
  {
   "cell_type": "code",
   "execution_count": 11,
   "id": "8cc4e0c3",
   "metadata": {},
   "outputs": [
    {
     "name": "stdout",
     "output_type": "stream",
     "text": [
      "Product of Numbers from 1 to 25=15511210043330985984000000\n"
     ]
    }
   ],
   "source": [
    "#Source code\n",
    "from functools import reduce\n",
    "\n",
    "if __name__==\"__main__\":\n",
    "    list1=list(range(1,26))\n",
    "    \n",
    "    #Main logic\n",
    "    product=reduce(lambda x,y:x*y,list1)\n",
    "    \n",
    "    #Result\n",
    "    print(f\"Product of Numbers from 1 to 25={product}\")"
   ]
  },
  {
   "cell_type": "markdown",
   "id": "ab2bbd03",
   "metadata": {},
   "source": [
    "# Q5. Write a python program to filter the numbers in a given list that are divisible by 2 and 3 using the filter function.\n",
    "val=[2, 3, 6, 9, 27, 60, 90, 120, 55, 46]"
   ]
  },
  {
   "cell_type": "code",
   "execution_count": 13,
   "id": "ff671fc0",
   "metadata": {},
   "outputs": [
    {
     "name": "stdout",
     "output_type": "stream",
     "text": [
      "List with Numbers divisible by 2 and 3=[6, 60, 90, 120]\n"
     ]
    }
   ],
   "source": [
    "#source code \n",
    "\n",
    "if __name__==\"__main__\":\n",
    "    val=[2, 3, 6, 9, 27, 60, 90, 120, 55, 46]\n",
    "    \n",
    "    #Main logic\n",
    "    out=list(filter(lambda x:x%2==0 and x%3==0,val))\n",
    "    \n",
    "    #Result\n",
    "    print(f\"List with Numbers divisible by 2 and 3={out}\")\n",
    "    "
   ]
  },
  {
   "cell_type": "markdown",
   "id": "e61cc22e",
   "metadata": {},
   "source": [
    "# Q6. Write a python program to find palindromes in the given list of strings using lambda and filter function.\n",
    "data=['python', 'php', 'aba', 'radar', 'level']"
   ]
  },
  {
   "cell_type": "code",
   "execution_count": 14,
   "id": "f5d40681",
   "metadata": {},
   "outputs": [
    {
     "name": "stdout",
     "output_type": "stream",
     "text": [
      "List of palindrome strings is=['php', 'aba', 'radar', 'level']\n"
     ]
    }
   ],
   "source": [
    "#source code\n",
    "\n",
    "if __name__==\"__main__\":\n",
    "    data=['python', 'php', 'aba', 'radar', 'level']\n",
    "    \n",
    "    #Main logic\n",
    "    out=list(filter(lambda x:x==x[::-1],data))\n",
    "    \n",
    "    #Result\n",
    "    print(f\"List of palindrome strings is={out}\")"
   ]
  }
 ],
 "metadata": {
  "kernelspec": {
   "display_name": "Python 3 (ipykernel)",
   "language": "python",
   "name": "python3"
  },
  "language_info": {
   "codemirror_mode": {
    "name": "ipython",
    "version": 3
   },
   "file_extension": ".py",
   "mimetype": "text/x-python",
   "name": "python",
   "nbconvert_exporter": "python",
   "pygments_lexer": "ipython3",
   "version": "3.10.1"
  }
 },
 "nbformat": 4,
 "nbformat_minor": 5
}
