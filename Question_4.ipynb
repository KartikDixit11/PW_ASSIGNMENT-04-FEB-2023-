{
 "cells": [
  {
   "cell_type": "markdown",
   "id": "aa552598",
   "metadata": {},
   "source": [
    "# Q.4 Create a list of numbers from 1 to 100.Use for loop and while loop to calculate the cube of each number and if the cube of that number is divisible by 4 or 5 then append that number in a list and print that list. "
   ]
  },
  {
   "cell_type": "code",
   "execution_count": 10,
   "id": "c9f95d70",
   "metadata": {},
   "outputs": [
    {
     "name": "stdout",
     "output_type": "stream",
     "text": [
      "list of numbers whose cubes are divisible by 4 or 5=[2, 4, 5, 6, 8, 10, 12, 14, 15, 16, 18, 20, 22, 24, 25, 26, 28, 30, 32, 34, 35, 36, 38, 40, 42, 44, 45, 46, 48, 50, 52, 54, 55, 56, 58, 60, 62, 64, 65, 66, 68, 70, 72, 74, 75, 76, 78, 80, 82, 84, 85, 86, 88, 90, 92, 94, 95, 96, 98, 100]\n"
     ]
    }
   ],
   "source": [
    "#source code \n",
    "\n",
    "if __name__==\"__main__\":\n",
    "    \n",
    "    #List of 1 to 100\n",
    "    num=list(range(1,101))\n",
    "    \n",
    "    #initializing the empty list of operational data\n",
    "    data=[]\n",
    "    \n",
    "    #Main logic\n",
    "    for i in num:\n",
    "        temp=i**3\n",
    "        if temp%4==0 or temp%5==0:\n",
    "            data.append(i)\n",
    "    \n",
    "    #Result\n",
    "    print(f\"list of numbers whose cubes are divisible by 4 or 5={data}\")\n"
   ]
  }
 ],
 "metadata": {
  "kernelspec": {
   "display_name": "Python 3 (ipykernel)",
   "language": "python",
   "name": "python3"
  },
  "language_info": {
   "codemirror_mode": {
    "name": "ipython",
    "version": 3
   },
   "file_extension": ".py",
   "mimetype": "text/x-python",
   "name": "python",
   "nbconvert_exporter": "python",
   "pygments_lexer": "ipython3",
   "version": "3.10.1"
  }
 },
 "nbformat": 4,
 "nbformat_minor": 5
}
