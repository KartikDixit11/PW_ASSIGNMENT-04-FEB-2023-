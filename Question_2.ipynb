{
 "cells": [
  {
   "cell_type": "markdown",
   "id": "aa552598",
   "metadata": {},
   "source": [
    "# Q.2  Write a python program to print the sum and product of the first 10 natural numbers using for and while loop"
   ]
  },
  {
   "cell_type": "code",
   "execution_count": 3,
   "id": "e398e5dc",
   "metadata": {},
   "outputs": [
    {
     "name": "stdout",
     "output_type": "stream",
     "text": [
      "Addition of first 10 natural numbers=55\n",
      "Multiplication of first 10 natural numbers=3628800\n"
     ]
    }
   ],
   "source": [
    "#Source code\n",
    "if __name__=\"__main__\":\n",
    "        addition=0\n",
    "        product=1\n",
    "\n",
    "        #Addition using for loop\n",
    "\n",
    "        for i in range(1,11):\n",
    "            addition+=i\n",
    "\n",
    "        #Multiplication using while loop\n",
    "\n",
    "        i=1\n",
    "\n",
    "        while i<=10:\n",
    "            product*=i\n",
    "            i=i+1\n",
    "\n",
    "        #Result of add\n",
    "\n",
    "        print(f\"Addition of first 10 natural numbers={addition}\")\n",
    "\n",
    "        #Result of multiplication\n",
    "\n",
    "        print(f\"Multiplication of first 10 natural numbers={product}\")"
   ]
  },
  {
   "cell_type": "code",
   "execution_count": null,
   "id": "811e4ec4",
   "metadata": {},
   "outputs": [],
   "source": [
    "    "
   ]
  }
 ],
 "metadata": {
  "kernelspec": {
   "display_name": "Python 3 (ipykernel)",
   "language": "python",
   "name": "python3"
  },
  "language_info": {
   "codemirror_mode": {
    "name": "ipython",
    "version": 3
   },
   "file_extension": ".py",
   "mimetype": "text/x-python",
   "name": "python",
   "nbconvert_exporter": "python",
   "pygments_lexer": "ipython3",
   "version": "3.10.1"
  }
 },
 "nbformat": 4,
 "nbformat_minor": 5
}
